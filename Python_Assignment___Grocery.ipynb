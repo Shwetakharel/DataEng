{
  "cells": [
    {
      "cell_type": "markdown",
      "metadata": {
        "id": "view-in-github",
        "colab_type": "text"
      },
      "source": [
        "<a href=\"https://colab.research.google.com/github/Shwetakharel/DataEng/blob/main/Python_Assignment___Grocery.ipynb\" target=\"_parent\"><img src=\"https://colab.research.google.com/assets/colab-badge.svg\" alt=\"Open In Colab\"/></a>"
      ]
    },
    {
      "cell_type": "code",
      "execution_count": 1,
      "id": "f514006e",
      "metadata": {
        "id": "f514006e"
      },
      "outputs": [],
      "source": [
        "# Price Data\n",
        "\n",
        "item_dict = {'almonds': 6,\n",
        " 'antioxidant juice': 9,\n",
        " 'avocado': 1,\n",
        " 'black tea': 4,\n",
        " 'burgers': 4,\n",
        " 'champagne': 3,\n",
        " 'chicken': 4,\n",
        " 'chocolate': 7,\n",
        " 'chutney': 7,\n",
        " 'cookies': 7,\n",
        " 'cooking oil': 7,\n",
        " 'cottage cheese': 9,\n",
        " 'eggs': 9,\n",
        " 'energy bar': 9,\n",
        " 'energy drink': 3,\n",
        " 'extra dark chocolate': 8,\n",
        " 'french fries': 7,\n",
        " 'fresh tuna': 9,\n",
        " 'frozen smoothie': 7,\n",
        " 'frozen vegetables': 2,\n",
        " 'green grapes': 8,\n",
        " 'green tea': 8,\n",
        " 'honey': 9,\n",
        " 'light cream': 5,\n",
        " 'low fat yogurt': 4,\n",
        " 'meatballs': 9,\n",
        " 'milk': 5,\n",
        " 'mineral water': 2,\n",
        " 'oil': 9,\n",
        " 'olive oil': 8,\n",
        " 'pet food': 3,\n",
        " 'protein bar': 1,\n",
        " 'salad': 7,\n",
        " 'salmon': 3,\n",
        " 'shallot': 6,\n",
        " 'shrimp': 2,\n",
        " 'soup': 2,\n",
        " 'spaghetti': 6,\n",
        " 'spinach': 7,\n",
        " 'tomato juice': 8,\n",
        " 'tomatoes': 5,\n",
        " 'turkey': 8,\n",
        " 'vegetables mix': 3,\n",
        " 'whole wheat flour': 5,\n",
        " 'whole wheat pasta': 5,\n",
        " 'whole wheat rice': 4,\n",
        " 'yams': 7}\n"
      ]
    },
    {
      "cell_type": "code",
      "execution_count": 2,
      "id": "e41d69a3",
      "metadata": {
        "id": "e41d69a3"
      },
      "outputs": [],
      "source": [
        "# transaction data\n",
        "\n",
        "transaction_data = \\\n",
        "[['shrimp', 'almonds', 'avocado', 'vegetables mix', 'green grapes', 'whole wheat flour', 'yams', 'cottage cheese', 'energy drink', 'tomato juice', 'low fat yogurt', 'green tea', 'honey', 'salad', 'mineral water', 'salmon', 'antioxidant juice', 'frozen smoothie', 'spinach', 'olive oil'],\n",
        "['burgers', 'meatballs', 'eggs'],\n",
        "['chutney'],\n",
        "['turkey', 'avocado'],\n",
        "['mineral water', 'milk', 'energy bar', 'whole wheat rice', 'green tea'],\n",
        "['low fat yogurt'],\n",
        "['whole wheat pasta', 'french fries'],\n",
        "['soup', 'light cream', 'shallot'],\n",
        "['frozen vegetables', 'spaghetti', 'green tea'],\n",
        "['french fries'],\n",
        "['eggs', 'pet food'],\n",
        "['cookies'],\n",
        "['turkey', 'burgers', 'mineral water', 'eggs', 'cooking oil'],\n",
        "['spaghetti', 'champagne', 'cookies'],\n",
        "['mineral water', 'salmon'],\n",
        "['mineral water'],\n",
        "['shrimp', 'chocolate', 'chicken', 'honey', 'oil', 'cooking oil', 'low fat yogurt'],\n",
        "['turkey', 'eggs'],\n",
        "['turkey', 'fresh tuna', 'tomatoes', 'spaghetti', 'mineral water', 'black tea', 'salmon', 'eggs', 'chicken', 'extra dark chocolate'],\n",
        "['meatballs', 'milk', 'honey', 'french fries', 'protein bar']]"
      ]
    },
    {
      "cell_type": "markdown",
      "id": "fa48333a",
      "metadata": {
        "id": "fa48333a"
      },
      "source": [
        "Q1. Based on customer demand, items keep changing in the store. Your first task is to create a function that lets the admin add or remove items from the store directory(Cost dictionary)."
      ]
    },
    {
      "cell_type": "code",
      "source": [
        "#Creating a function to add or remove items from items dictionary\n",
        "def check_list(check_value):\n",
        "  if check_value not in item_dict:\n",
        "    item_dict[check_value] = int(input(f\"Enter the price of {check_value} : \"))\n",
        "  else:\n",
        "    item_dict.pop(check_value)\n",
        "  return item_dict\n",
        "\n",
        "value = input(\"Please name the value of an item that you want to add or remove: \")\n",
        "check_list(value)\n",
        "print(f\"New updated list is {dict(sorted(item_dict.items()))} \")\n"
      ],
      "metadata": {
        "colab": {
          "base_uri": "https://localhost:8080/"
        },
        "id": "Uk_YagdHc296",
        "outputId": "051b386a-ecec-4fc2-c992-ed65d0e73fd6"
      },
      "id": "Uk_YagdHc296",
      "execution_count": 41,
      "outputs": [
        {
          "output_type": "stream",
          "name": "stdout",
          "text": [
            "Please name the value of an item that you want to add or remove: banana\n",
            "Enter the price of banana : 10\n",
            "New updated list is {'almonds': 6, 'antioxidant juice': 9, 'banana': 10, 'black tea': 4, 'burgers': 4, 'champagne': 3, 'chocolate': 7, 'chutney': 7, 'cookies': 7, 'cooking oil': 7, 'cottage cheese': 9, 'eggs': 9, 'energy bar': 9, 'energy drink': 3, 'extra dark chocolate': 8, 'french fries': 7, 'fresh tuna': 9, 'frozen smoothie': 7, 'frozen vegetables': 2, 'green grapes': 8, 'green tea': 8, 'honey': 9, 'light cream': 5, 'low fat yogurt': 4, 'meatballs': 9, 'milk': 5, 'mineral water': 2, 'oil': 9, 'olive oil': 8, 'pet food': 3, 'protein bar': 1, 'salad': 7, 'salmon': 3, 'shallot': 6, 'shrimp': 2, 'soup': 2, 'spaghetti': 6, 'spinach': 7, 'tomato juice': 8, 'tomatoes': 5, 'turkey': 8, 'vegetables mix': 3, 'whole wheat flour': 5, 'whole wheat pasta': 5, 'whole wheat rice': 4, 'yams': 7} \n"
          ]
        }
      ]
    },
    {
      "cell_type": "markdown",
      "id": "32fb4625",
      "metadata": {
        "id": "32fb4625"
      },
      "source": [
        "● Find how many unique items are present in the data? (Hint: It will correspond to the number of key pairs in the Cost dictionary) I"
      ]
    },
    {
      "cell_type": "code",
      "execution_count": 42,
      "id": "ed8c0cfb",
      "metadata": {
        "colab": {
          "base_uri": "https://localhost:8080/"
        },
        "id": "ed8c0cfb",
        "outputId": "f7a38f7b-64ea-41e6-b47b-e8e380af1ab2"
      },
      "outputs": [
        {
          "output_type": "stream",
          "name": "stdout",
          "text": [
            "Number of unique items : 46\n"
          ]
        }
      ],
      "source": [
        "    # printing the number of unique items\n",
        "unique_items = len(item_dict.keys())\n",
        "print(f\"Number of unique items : {unique_items}\")"
      ]
    },
    {
      "cell_type": "markdown",
      "id": "b4e02f3a",
      "metadata": {
        "id": "b4e02f3a"
      },
      "source": [
        "● Find the total number of transactions?"
      ]
    },
    {
      "cell_type": "code",
      "execution_count": 43,
      "id": "d1993f3b",
      "metadata": {
        "colab": {
          "base_uri": "https://localhost:8080/"
        },
        "id": "d1993f3b",
        "outputId": "e1cf3fa6-5e09-4bd9-a97c-df6a760b8d0b"
      },
      "outputs": [
        {
          "output_type": "stream",
          "name": "stdout",
          "text": [
            "Total number of transactions : 20\n"
          ]
        }
      ],
      "source": [
        "#Printing total number of transactions in transaction data\n",
        "number_of_transactions = len(transaction_data)\n",
        "print(f\"Total number of transactions : {number_of_transactions}\")"
      ]
    },
    {
      "cell_type": "markdown",
      "id": "83b474f9",
      "metadata": {
        "id": "83b474f9"
      },
      "source": [
        "●\tAdd items, try adding the item “banana” in stores. The cost of this item is $5. Add the item “banana” to the Cost dictionary.\n",
        "\n",
        "●\tUse a function named add_item( ) to automatically add an item to the Cost dictionary given its name and price.\n"
      ]
    },
    {
      "cell_type": "code",
      "execution_count": 44,
      "id": "d7f0f26b",
      "metadata": {
        "colab": {
          "base_uri": "https://localhost:8080/"
        },
        "id": "d7f0f26b",
        "outputId": "ce34c066-fba1-4db5-cf78-9ca8e51d211d"
      },
      "outputs": [
        {
          "output_type": "stream",
          "name": "stdout",
          "text": [
            "Please name the value of an item that you want to add : apple\n",
            "Enter the price of apple : 10\n",
            "New updated list is {'almonds': 6, 'antioxidant juice': 9, 'apple': 10, 'banana': 10, 'black tea': 4, 'burgers': 4, 'champagne': 3, 'chocolate': 7, 'chutney': 7, 'cookies': 7, 'cooking oil': 7, 'cottage cheese': 9, 'eggs': 9, 'energy bar': 9, 'energy drink': 3, 'extra dark chocolate': 8, 'french fries': 7, 'fresh tuna': 9, 'frozen smoothie': 7, 'frozen vegetables': 2, 'green grapes': 8, 'green tea': 8, 'honey': 9, 'light cream': 5, 'low fat yogurt': 4, 'meatballs': 9, 'milk': 5, 'mineral water': 2, 'oil': 9, 'olive oil': 8, 'pet food': 3, 'protein bar': 1, 'salad': 7, 'salmon': 3, 'shallot': 6, 'shrimp': 2, 'soup': 2, 'spaghetti': 6, 'spinach': 7, 'tomato juice': 8, 'tomatoes': 5, 'turkey': 8, 'vegetables mix': 3, 'whole wheat flour': 5, 'whole wheat pasta': 5, 'whole wheat rice': 4, 'yams': 7}\n"
          ]
        }
      ],
      "source": [
        "#Adding the items along with their price\n",
        "def add_item(check_value):\n",
        "  if check_value in item_dict:\n",
        "    print(\"Item already exists in the list\")\n",
        "  else:\n",
        "     item_dict[check_value] = int(input(f\"Enter the price of {check_value} : \"))\n",
        "     print(f\"New updated list is {dict(sorted(item_dict.items()))}\")\n",
        "\n",
        "value = input(\"Please name the value of an item that you want to add : \")\n",
        "add_item(value)"
      ]
    },
    {
      "cell_type": "markdown",
      "id": "67026eba",
      "metadata": {
        "id": "67026eba"
      },
      "source": [
        "●\tRemove an item: for example: if the customers at Walmart do not seem to be purchasing “banana,” and the store decides to discontinue this item. The function to should be able to remove the item “banana” from the Cost dictionary\n",
        "\n",
        "●\tCreate a function called remove_item( ) to automatically remove an item from the Cost dictionary given its name.\n"
      ]
    },
    {
      "cell_type": "code",
      "execution_count": 45,
      "id": "2e26ae37",
      "metadata": {
        "colab": {
          "base_uri": "https://localhost:8080/"
        },
        "id": "2e26ae37",
        "outputId": "70b2a231-bdc0-47d3-b4f7-1dc28950ab8a"
      },
      "outputs": [
        {
          "output_type": "stream",
          "name": "stdout",
          "text": [
            "Please name the value of an item that you want to remove : apple\n",
            "New updated list after removing apple is {'almonds': 6, 'antioxidant juice': 9, 'banana': 10, 'black tea': 4, 'burgers': 4, 'champagne': 3, 'chocolate': 7, 'chutney': 7, 'cookies': 7, 'cooking oil': 7, 'cottage cheese': 9, 'eggs': 9, 'energy bar': 9, 'energy drink': 3, 'extra dark chocolate': 8, 'french fries': 7, 'fresh tuna': 9, 'frozen smoothie': 7, 'frozen vegetables': 2, 'green grapes': 8, 'green tea': 8, 'honey': 9, 'light cream': 5, 'low fat yogurt': 4, 'meatballs': 9, 'milk': 5, 'mineral water': 2, 'oil': 9, 'olive oil': 8, 'pet food': 3, 'protein bar': 1, 'salad': 7, 'salmon': 3, 'shallot': 6, 'shrimp': 2, 'soup': 2, 'spaghetti': 6, 'spinach': 7, 'tomato juice': 8, 'tomatoes': 5, 'turkey': 8, 'vegetables mix': 3, 'whole wheat flour': 5, 'whole wheat pasta': 5, 'whole wheat rice': 4, 'yams': 7}\n"
          ]
        }
      ],
      "source": [
        "#Removing the items along with their price\n",
        "def remove_item(check_value):\n",
        "  if check_value in item_dict:\n",
        "    item_dict.pop(check_value)\n",
        "    print(f\"New updated list after removing {check_value} is {dict(sorted(item_dict.items()))}\")\n",
        "  else:\n",
        "    print(\"Item doesn't exist in the list\")\n",
        "\n",
        "value = input(\"Please name the value of an item that you want to remove : \")\n",
        "remove_item(value)\n"
      ]
    },
    {
      "cell_type": "markdown",
      "id": "39d0c4e0",
      "metadata": {
        "id": "39d0c4e0"
      },
      "source": [
        "Q2. Once a customer has completed shopping, they need to be billed for the total amount of all the items. This can be done automatically by swiping each item’s barcode on a checkout system. Your second task is to build the software underlying the checkout system, which finds the total cost of all the items in a customer’s cart, including taxes:"
      ]
    },
    {
      "cell_type": "markdown",
      "id": "ce6b6968",
      "metadata": {
        "id": "ce6b6968"
      },
      "source": [
        "● Write the code, to find the price of an item from the cost dictionary\n",
        "\n",
        "○ Find the price of salmon from the cost dictionary"
      ]
    },
    {
      "cell_type": "code",
      "execution_count": 46,
      "id": "e353870d",
      "metadata": {
        "colab": {
          "base_uri": "https://localhost:8080/"
        },
        "id": "e353870d",
        "outputId": "b6a718f7-5ef9-494f-ebd2-badb08b3a767"
      },
      "outputs": [
        {
          "output_type": "execute_result",
          "data": {
            "text/plain": [
              "3"
            ]
          },
          "metadata": {},
          "execution_count": 46
        }
      ],
      "source": [
        "item_dict[\"salmon\"]"
      ]
    },
    {
      "cell_type": "markdown",
      "id": "ad60c963",
      "metadata": {
        "id": "ad60c963"
      },
      "source": [
        "●\tWrite a code that helps the administrator find any particular transaction in the sequence\n",
        "\n",
        "○\tTry finding the ninth transaction from the data"
      ]
    },
    {
      "cell_type": "code",
      "execution_count": 48,
      "id": "49d46ee7",
      "metadata": {
        "colab": {
          "base_uri": "https://localhost:8080/"
        },
        "id": "49d46ee7",
        "outputId": "2f73e7cf-45cc-44c2-b270-ee24f7816ca6"
      },
      "outputs": [
        {
          "output_type": "execute_result",
          "data": {
            "text/plain": [
              "['frozen vegetables', 'spaghetti', 'green tea']"
            ]
          },
          "metadata": {},
          "execution_count": 48
        }
      ],
      "source": [
        "transaction_data[8]"
      ]
    },
    {
      "cell_type": "markdown",
      "id": "37f21945",
      "metadata": {
        "id": "37f21945"
      },
      "source": [
        "● How many items are present in the ninth transaction?"
      ]
    },
    {
      "cell_type": "code",
      "execution_count": 50,
      "id": "9fb7af29",
      "metadata": {
        "colab": {
          "base_uri": "https://localhost:8080/"
        },
        "id": "9fb7af29",
        "outputId": "0791425b-aeaf-496a-e1f6-afc08afb949d"
      },
      "outputs": [
        {
          "output_type": "stream",
          "name": "stdout",
          "text": [
            "The number of items in ninth transaction is : 3\n"
          ]
        }
      ],
      "source": [
        "print(f\"The number of items in ninth transaction is : {len(transaction_data[8])}\")"
      ]
    },
    {
      "cell_type": "markdown",
      "id": "fcf456e6",
      "metadata": {
        "id": "fcf456e6"
      },
      "source": [
        "● Find the total cost of the ninth transaction from the array of transactions."
      ]
    },
    {
      "cell_type": "code",
      "execution_count": 63,
      "id": "379b3a51",
      "metadata": {
        "colab": {
          "base_uri": "https://localhost:8080/"
        },
        "id": "379b3a51",
        "outputId": "5de05a66-9ddb-4e3b-8d6e-5859d91d78f0"
      },
      "outputs": [
        {
          "output_type": "stream",
          "name": "stdout",
          "text": [
            "Price of frozen vegetables is 2\n",
            "Price of spaghetti is 6\n",
            "Price of green tea is 8\n",
            "Sum of all product is 16\n"
          ]
        }
      ],
      "source": [
        "sum = 0\n",
        "for i in transaction_data[8]:\n",
        "   sum += item_dict[i]\n",
        "   print(f\"Price of {i} is {item_dict[i]}\")\n",
        "\n",
        "print(f\"Sum of all product is {sum}\")\n",
        "\n"
      ]
    },
    {
      "cell_type": "markdown",
      "id": "0f2c5158",
      "metadata": {
        "id": "0f2c5158"
      },
      "source": [
        "● As per government guidelines, a mandatory 5% tax is applied to the total cost of a transaction. Find the final price of the second transaction after applicable taxes have been implemented.\n",
        "\n",
        "● Create a function named find_total( ) to find the final price of any transaction after applicable taxes have been implemented."
      ]
    },
    {
      "cell_type": "code",
      "execution_count": 71,
      "id": "0bc8a0e8",
      "metadata": {
        "colab": {
          "base_uri": "https://localhost:8080/"
        },
        "id": "0bc8a0e8",
        "outputId": "18ccc760-6139-4b16-c9bc-f2030eeda7db"
      },
      "outputs": [
        {
          "output_type": "stream",
          "name": "stdout",
          "text": [
            "Enter the row for which you want to calculate the price after tax application : 2\n",
            "Price of burgers is 4\n",
            "Price of meatballs is 9\n",
            "Price of eggs is 9\n",
            "The total price after mandatory 5% tax application is : 23.1\n"
          ]
        }
      ],
      "source": [
        "def find_total(value):\n",
        "  sum = 0\n",
        "  for i in transaction_data[value - 1]:\n",
        "    print(f\"Price of {i} is {item_dict[i]}\")\n",
        "    sum  += item_dict[i]\n",
        "  price_after_tax = sum + sum * 0.05\n",
        "  print(f\"The total price after mandatory 5% tax application is : {price_after_tax}\")\n",
        "\n",
        "index_value = int(input(\"Enter the row for which you want to calculate the price after tax application : \"))\n",
        "find_total(index_value)\n"
      ]
    },
    {
      "cell_type": "code",
      "source": [],
      "metadata": {
        "id": "1gH0F9Z9wi11"
      },
      "id": "1gH0F9Z9wi11",
      "execution_count": null,
      "outputs": []
    }
  ],
  "metadata": {
    "kernelspec": {
      "display_name": "Python 3 (ipykernel)",
      "language": "python",
      "name": "python3"
    },
    "language_info": {
      "codemirror_mode": {
        "name": "ipython",
        "version": 3
      },
      "file_extension": ".py",
      "mimetype": "text/x-python",
      "name": "python",
      "nbconvert_exporter": "python",
      "pygments_lexer": "ipython3",
      "version": "3.10.9"
    },
    "colab": {
      "provenance": [],
      "include_colab_link": true
    }
  },
  "nbformat": 4,
  "nbformat_minor": 5
}